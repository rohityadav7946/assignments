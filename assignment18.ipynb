{
 "cells": [
  {
   "cell_type": "markdown",
   "metadata": {},
   "source": [
    "# Question 1"
   ]
  },
  {
   "cell_type": "markdown",
   "metadata": {},
   "source": [
    "F = (b+c)(a-1)"
   ]
  },
  {
   "cell_type": "markdown",
   "metadata": {},
   "source": [
    "# Question 2"
   ]
  },
  {
   "cell_type": "markdown",
   "metadata": {},
   "source": [
    "x = (-0.162 + 21.5 + 0.0028)\n",
    "\n",
    "x = 21.3408\n",
    "\n",
    "f(x) = 0.999999999460727442636\n",
    "\n",
    "\n",
    "If bias is -1.1\n",
    "\n",
    "x = (-1.1 -0.162 + 21.5 + 0.0028)\n",
    "\n",
    "x = 20.2408\n",
    "\n",
    "f(x) = 0.9999999983799357072713\n",
    "\n",
    "\n",
    "When we change the bias to -1.1, then the value of x changes and becomes 20.2408 which also changes value of f(x) to 0.9999999983799357072713\n",
    "\n",
    "A bias value allows you to shift the activation function to the left or right. That's useful, but what if you wanted the network to output 0 when x is 2? You want to be able to shift the entire curve to the right.That's exactly what the bias allows you to do, If we add a bias to that network."
   ]
  },
  {
   "cell_type": "markdown",
   "metadata": {},
   "source": []
  }
 ],
 "metadata": {
  "kernelspec": {
   "display_name": "Python 2",
   "language": "python",
   "name": "python2"
  },
  "language_info": {
   "codemirror_mode": {
    "name": "ipython",
    "version": 2
   },
   "file_extension": ".py",
   "mimetype": "text/x-python",
   "name": "python",
   "nbconvert_exporter": "python",
   "pygments_lexer": "ipython2",
   "version": "2.7.15"
  }
 },
 "nbformat": 4,
 "nbformat_minor": 2
}
