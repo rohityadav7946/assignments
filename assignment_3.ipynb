{
 "cells": [
  {
   "cell_type": "code",
   "execution_count": 7,
   "metadata": {},
   "outputs": [
    {
     "name": "stdout",
     "output_type": "stream",
     "text": [
      "0.0303030328926\n"
     ]
    }
   ],
   "source": [
    "#QUESTION 1\n",
    "P_A = 0.30555556   #P_A IS P(A)         used decimal values because of python 2.7\n",
    "P_B = 0.16666667   #P_B IS P(B)\n",
    "P_AB = 0.05555556  #P_AB IS P(A/B)\n",
    "def func(a,b,c):   \n",
    "    P_BA=c*b/a     #P_BA IS P(B/A)\n",
    "    print(P_BA)\n",
    "func(P_A,P_B,P_AB)\n"
   ]
  },
  {
   "cell_type": "code",
   "execution_count": 18,
   "metadata": {},
   "outputs": [
    {
     "name": "stdout",
     "output_type": "stream",
     "text": [
      "0.58333333333\n"
     ]
    }
   ],
   "source": [
    "#QUESTION 2\n",
    "'''''probability of bag1 = p(b1) = 1/2\n",
    "   probability of bag2 = p(b2) = 1/2\n",
    "  \n",
    "probability of black ball from b1 = p(black/b1) = 6/10\n",
    "probability of black ball from b2 = p(black/b2) = 3/7\n",
    "  \n",
    "p(b1/black) = p(black/b1)p(b1)/{p(black/b1)p(b1) + p(black/b2)p(b2)}\n",
    "p =6/10*1/2 / (6/10*1/2 + 3/7*1/2)\n",
    "p=0.58333333333'''''\n",
    "p=0.58333333333\n",
    "print(p)\n",
    "\n"
   ]
  },
  {
   "cell_type": "code",
   "execution_count": 21,
   "metadata": {},
   "outputs": [
    {
     "name": "stdout",
     "output_type": "stream",
     "text": [
      "0.285714\n"
     ]
    }
   ],
   "source": [
    "#QUESTION 3\n",
    "''''' probability of occuring 4 = 1/6\n",
    "    probability of not occuring 4 = 5/6\n",
    "    \n",
    "    probability of man reported 4 and it is actually  4 = p(4/reported 4) = p(4)*p(reported 4/4) / [p(4)*p(reported 4/4) + p(not4)P(reported 4/not4)]\n",
    "p = 1/6 * 2/3 / (1/6*2/3 + 5/6*1/3)\n",
    "p =0.285714'''''\n",
    "p =0.285714\n",
    "print(p)"
   ]
  }
 ],
 "metadata": {
  "kernelspec": {
   "display_name": "Python 2",
   "language": "python",
   "name": "python2"
  },
  "language_info": {
   "codemirror_mode": {
    "name": "ipython",
    "version": 2
   },
   "file_extension": ".py",
   "mimetype": "text/x-python",
   "name": "python",
   "nbconvert_exporter": "python",
   "pygments_lexer": "ipython2",
   "version": "2.7.15"
  }
 },
 "nbformat": 4,
 "nbformat_minor": 2
}
